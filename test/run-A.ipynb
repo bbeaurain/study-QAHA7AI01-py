{
 "cells": [
  {
   "cell_type": "code",
   "execution_count": 10,
   "id": "f2fd3cc2-3ad0-4550-8e01-94eee7346997",
   "metadata": {},
   "outputs": [
    {
     "name": "stdout",
     "output_type": "stream",
     "text": [
      "The autoreload extension is already loaded. To reload it, use:\n",
      "  %reload_ext autoreload\n"
     ]
    }
   ],
   "source": [
    "%load_ext autoreload\n",
    "%autoreload 2"
   ]
  },
  {
   "cell_type": "code",
   "execution_count": 11,
   "id": "e6e98aa7-8df0-4a5a-ad79-914a70d7d1d7",
   "metadata": {},
   "outputs": [],
   "source": [
    "import study_QAHA7AI01_py as m"
   ]
  },
  {
   "cell_type": "code",
   "execution_count": 12,
   "id": "d2a5a64c-55a0-41c7-9dc3-7640b96141db",
   "metadata": {},
   "outputs": [],
   "source": [
    "ca = m.Chapter_A()"
   ]
  },
  {
   "cell_type": "code",
   "execution_count": 13,
   "id": "e395ba2c-5136-423b-af04-025b649f6974",
   "metadata": {},
   "outputs": [
    {
     "name": "stdout",
     "output_type": "stream",
     "text": [
      "inside page_1\n"
     ]
    },
    {
     "data": {
      "text/plain": [
       "8"
      ]
     },
     "execution_count": 13,
     "metadata": {},
     "output_type": "execute_result"
    }
   ],
   "source": [
    "ca.page_1(3, 5)"
   ]
  },
  {
   "cell_type": "code",
   "execution_count": 14,
   "id": "31e44a6e-3d91-4e73-b53e-724c6de4986a",
   "metadata": {},
   "outputs": [
    {
     "data": {
      "text/plain": [
       "'HelloWorld!'"
      ]
     },
     "execution_count": 14,
     "metadata": {},
     "output_type": "execute_result"
    }
   ],
   "source": [
    "ca.hello_world()"
   ]
  },
  {
   "cell_type": "code",
   "execution_count": null,
   "id": "44f794af-e251-4380-b49e-ea1109ceb24d",
   "metadata": {},
   "outputs": [],
   "source": []
  },
  {
   "cell_type": "code",
   "execution_count": null,
   "id": "186830e9-2856-4bfd-9b67-eba66e35af6c",
   "metadata": {},
   "outputs": [],
   "source": []
  }
 ],
 "metadata": {
  "kernelspec": {
   "display_name": "Python 3 (ipykernel)",
   "language": "python",
   "name": "python3"
  },
  "language_info": {
   "codemirror_mode": {
    "name": "ipython",
    "version": 3
   },
   "file_extension": ".py",
   "mimetype": "text/x-python",
   "name": "python",
   "nbconvert_exporter": "python",
   "pygments_lexer": "ipython3",
   "version": "3.8.12"
  }
 },
 "nbformat": 4,
 "nbformat_minor": 5
}
